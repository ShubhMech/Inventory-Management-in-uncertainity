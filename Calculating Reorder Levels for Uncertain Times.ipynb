{
 "cells": [
  {
   "cell_type": "code",
   "execution_count": 1,
   "id": "77dc4ee1-30d8-4e11-939c-00e81950aa1c",
   "metadata": {},
   "outputs": [],
   "source": [
    "path= r\"D:\\Asus\\Documents\\retail_clean (2).csv\""
   ]
  },
  {
   "cell_type": "code",
   "execution_count": 15,
   "id": "8c59d307-886e-490d-86f3-267aa6296114",
   "metadata": {},
   "outputs": [],
   "source": [
    "import pandas as pd\n",
    "retailers= pd.read_csv(path, date_parser=\"InvoiceDate\")"
   ]
  },
  {
   "cell_type": "code",
   "execution_count": 16,
   "id": "26462030-94da-44bd-929a-47ede216b99e",
   "metadata": {},
   "outputs": [
    {
     "data": {
      "text/html": [
       "<div>\n",
       "<style scoped>\n",
       "    .dataframe tbody tr th:only-of-type {\n",
       "        vertical-align: middle;\n",
       "    }\n",
       "\n",
       "    .dataframe tbody tr th {\n",
       "        vertical-align: top;\n",
       "    }\n",
       "\n",
       "    .dataframe thead th {\n",
       "        text-align: right;\n",
       "    }\n",
       "</style>\n",
       "<table border=\"1\" class=\"dataframe\">\n",
       "  <thead>\n",
       "    <tr style=\"text-align: right;\">\n",
       "      <th></th>\n",
       "      <th>Unnamed: 0</th>\n",
       "      <th>Invoice</th>\n",
       "      <th>StockCode</th>\n",
       "      <th>Description</th>\n",
       "      <th>Quantity</th>\n",
       "      <th>InvoiceDate</th>\n",
       "      <th>Price</th>\n",
       "      <th>Customer ID</th>\n",
       "      <th>Country</th>\n",
       "      <th>Revenue</th>\n",
       "    </tr>\n",
       "  </thead>\n",
       "  <tbody>\n",
       "    <tr>\n",
       "      <th>0</th>\n",
       "      <td>0</td>\n",
       "      <td>489434</td>\n",
       "      <td>85048</td>\n",
       "      <td>15CM CHRISTMAS GLASS BALL 20 LIGHTS</td>\n",
       "      <td>12</td>\n",
       "      <td>2009-12-01 07:45:00</td>\n",
       "      <td>6.95</td>\n",
       "      <td>13085.0</td>\n",
       "      <td>United Kingdom</td>\n",
       "      <td>83.4</td>\n",
       "    </tr>\n",
       "    <tr>\n",
       "      <th>1</th>\n",
       "      <td>1</td>\n",
       "      <td>489434</td>\n",
       "      <td>79323P</td>\n",
       "      <td>PINK CHERRY LIGHTS</td>\n",
       "      <td>12</td>\n",
       "      <td>2009-12-01 07:45:00</td>\n",
       "      <td>6.75</td>\n",
       "      <td>13085.0</td>\n",
       "      <td>United Kingdom</td>\n",
       "      <td>81.0</td>\n",
       "    </tr>\n",
       "    <tr>\n",
       "      <th>2</th>\n",
       "      <td>2</td>\n",
       "      <td>489434</td>\n",
       "      <td>79323W</td>\n",
       "      <td>WHITE CHERRY LIGHTS</td>\n",
       "      <td>12</td>\n",
       "      <td>2009-12-01 07:45:00</td>\n",
       "      <td>6.75</td>\n",
       "      <td>13085.0</td>\n",
       "      <td>United Kingdom</td>\n",
       "      <td>81.0</td>\n",
       "    </tr>\n",
       "    <tr>\n",
       "      <th>3</th>\n",
       "      <td>3</td>\n",
       "      <td>489434</td>\n",
       "      <td>22041</td>\n",
       "      <td>RECORD FRAME 7\" SINGLE SIZE</td>\n",
       "      <td>48</td>\n",
       "      <td>2009-12-01 07:45:00</td>\n",
       "      <td>2.10</td>\n",
       "      <td>13085.0</td>\n",
       "      <td>United Kingdom</td>\n",
       "      <td>100.8</td>\n",
       "    </tr>\n",
       "    <tr>\n",
       "      <th>4</th>\n",
       "      <td>4</td>\n",
       "      <td>489434</td>\n",
       "      <td>21232</td>\n",
       "      <td>STRAWBERRY CERAMIC TRINKET BOX</td>\n",
       "      <td>24</td>\n",
       "      <td>2009-12-01 07:45:00</td>\n",
       "      <td>1.25</td>\n",
       "      <td>13085.0</td>\n",
       "      <td>United Kingdom</td>\n",
       "      <td>30.0</td>\n",
       "    </tr>\n",
       "  </tbody>\n",
       "</table>\n",
       "</div>"
      ],
      "text/plain": [
       "   Unnamed: 0  Invoice StockCode                          Description  \\\n",
       "0           0   489434     85048  15CM CHRISTMAS GLASS BALL 20 LIGHTS   \n",
       "1           1   489434    79323P                   PINK CHERRY LIGHTS   \n",
       "2           2   489434    79323W                  WHITE CHERRY LIGHTS   \n",
       "3           3   489434     22041         RECORD FRAME 7\" SINGLE SIZE    \n",
       "4           4   489434     21232       STRAWBERRY CERAMIC TRINKET BOX   \n",
       "\n",
       "   Quantity          InvoiceDate  Price  Customer ID         Country  Revenue  \n",
       "0        12  2009-12-01 07:45:00   6.95      13085.0  United Kingdom     83.4  \n",
       "1        12  2009-12-01 07:45:00   6.75      13085.0  United Kingdom     81.0  \n",
       "2        12  2009-12-01 07:45:00   6.75      13085.0  United Kingdom     81.0  \n",
       "3        48  2009-12-01 07:45:00   2.10      13085.0  United Kingdom    100.8  \n",
       "4        24  2009-12-01 07:45:00   1.25      13085.0  United Kingdom     30.0  "
      ]
     },
     "execution_count": 16,
     "metadata": {},
     "output_type": "execute_result"
    }
   ],
   "source": [
    "retailers.head(5)"
   ]
  },
  {
   "cell_type": "code",
   "execution_count": 17,
   "id": "79b7e31f-9079-4aaf-8deb-f7635e289f6f",
   "metadata": {},
   "outputs": [
    {
     "data": {
      "text/html": [
       "<div>\n",
       "<style scoped>\n",
       "    .dataframe tbody tr th:only-of-type {\n",
       "        vertical-align: middle;\n",
       "    }\n",
       "\n",
       "    .dataframe tbody tr th {\n",
       "        vertical-align: top;\n",
       "    }\n",
       "\n",
       "    .dataframe thead th {\n",
       "        text-align: right;\n",
       "    }\n",
       "</style>\n",
       "<table border=\"1\" class=\"dataframe\">\n",
       "  <thead>\n",
       "    <tr style=\"text-align: right;\">\n",
       "      <th></th>\n",
       "      <th>Unnamed: 0</th>\n",
       "      <th>Invoice</th>\n",
       "      <th>Quantity</th>\n",
       "      <th>Price</th>\n",
       "      <th>Customer ID</th>\n",
       "      <th>Revenue</th>\n",
       "    </tr>\n",
       "  </thead>\n",
       "  <tbody>\n",
       "    <tr>\n",
       "      <th>count</th>\n",
       "      <td>7.794950e+05</td>\n",
       "      <td>779495.000000</td>\n",
       "      <td>779495.000000</td>\n",
       "      <td>779495.000000</td>\n",
       "      <td>779495.000000</td>\n",
       "      <td>779495.000000</td>\n",
       "    </tr>\n",
       "    <tr>\n",
       "      <th>mean</th>\n",
       "      <td>5.315660e+05</td>\n",
       "      <td>537427.005391</td>\n",
       "      <td>13.507085</td>\n",
       "      <td>3.218199</td>\n",
       "      <td>15320.262918</td>\n",
       "      <td>22.289821</td>\n",
       "    </tr>\n",
       "    <tr>\n",
       "      <th>std</th>\n",
       "      <td>3.110433e+05</td>\n",
       "      <td>26901.961110</td>\n",
       "      <td>146.540284</td>\n",
       "      <td>29.674823</td>\n",
       "      <td>1695.722988</td>\n",
       "      <td>227.416962</td>\n",
       "    </tr>\n",
       "    <tr>\n",
       "      <th>min</th>\n",
       "      <td>0.000000e+00</td>\n",
       "      <td>489434.000000</td>\n",
       "      <td>1.000000</td>\n",
       "      <td>0.000000</td>\n",
       "      <td>12346.000000</td>\n",
       "      <td>0.000000</td>\n",
       "    </tr>\n",
       "    <tr>\n",
       "      <th>25%</th>\n",
       "      <td>2.598405e+05</td>\n",
       "      <td>514483.000000</td>\n",
       "      <td>2.000000</td>\n",
       "      <td>1.250000</td>\n",
       "      <td>13971.000000</td>\n",
       "      <td>4.950000</td>\n",
       "    </tr>\n",
       "    <tr>\n",
       "      <th>50%</th>\n",
       "      <td>5.071680e+05</td>\n",
       "      <td>536754.000000</td>\n",
       "      <td>6.000000</td>\n",
       "      <td>1.950000</td>\n",
       "      <td>15246.000000</td>\n",
       "      <td>12.480000</td>\n",
       "    </tr>\n",
       "    <tr>\n",
       "      <th>75%</th>\n",
       "      <td>8.114895e+05</td>\n",
       "      <td>562002.000000</td>\n",
       "      <td>12.000000</td>\n",
       "      <td>3.750000</td>\n",
       "      <td>16794.000000</td>\n",
       "      <td>19.800000</td>\n",
       "    </tr>\n",
       "    <tr>\n",
       "      <th>max</th>\n",
       "      <td>1.067370e+06</td>\n",
       "      <td>581587.000000</td>\n",
       "      <td>80995.000000</td>\n",
       "      <td>10953.500000</td>\n",
       "      <td>18287.000000</td>\n",
       "      <td>168469.600000</td>\n",
       "    </tr>\n",
       "  </tbody>\n",
       "</table>\n",
       "</div>"
      ],
      "text/plain": [
       "         Unnamed: 0        Invoice       Quantity          Price  \\\n",
       "count  7.794950e+05  779495.000000  779495.000000  779495.000000   \n",
       "mean   5.315660e+05  537427.005391      13.507085       3.218199   \n",
       "std    3.110433e+05   26901.961110     146.540284      29.674823   \n",
       "min    0.000000e+00  489434.000000       1.000000       0.000000   \n",
       "25%    2.598405e+05  514483.000000       2.000000       1.250000   \n",
       "50%    5.071680e+05  536754.000000       6.000000       1.950000   \n",
       "75%    8.114895e+05  562002.000000      12.000000       3.750000   \n",
       "max    1.067370e+06  581587.000000   80995.000000   10953.500000   \n",
       "\n",
       "         Customer ID        Revenue  \n",
       "count  779495.000000  779495.000000  \n",
       "mean    15320.262918      22.289821  \n",
       "std      1695.722988     227.416962  \n",
       "min     12346.000000       0.000000  \n",
       "25%     13971.000000       4.950000  \n",
       "50%     15246.000000      12.480000  \n",
       "75%     16794.000000      19.800000  \n",
       "max     18287.000000  168469.600000  "
      ]
     },
     "execution_count": 17,
     "metadata": {},
     "output_type": "execute_result"
    }
   ],
   "source": [
    "retailers.describe()"
   ]
  },
  {
   "cell_type": "code",
   "execution_count": 18,
   "id": "e77efcd5-e1ef-4544-bc17-6804fdcd8e0b",
   "metadata": {},
   "outputs": [
    {
     "name": "stdout",
     "output_type": "stream",
     "text": [
      "<class 'pandas.core.frame.DataFrame'>\n",
      "RangeIndex: 779495 entries, 0 to 779494\n",
      "Data columns (total 10 columns):\n",
      " #   Column       Non-Null Count   Dtype  \n",
      "---  ------       --------------   -----  \n",
      " 0   Unnamed: 0   779495 non-null  int64  \n",
      " 1   Invoice      779495 non-null  int64  \n",
      " 2   StockCode    779495 non-null  object \n",
      " 3   Description  779495 non-null  object \n",
      " 4   Quantity     779495 non-null  int64  \n",
      " 5   InvoiceDate  779495 non-null  object \n",
      " 6   Price        779495 non-null  float64\n",
      " 7   Customer ID  779495 non-null  float64\n",
      " 8   Country      779495 non-null  object \n",
      " 9   Revenue      779495 non-null  float64\n",
      "dtypes: float64(3), int64(3), object(4)\n",
      "memory usage: 59.5+ MB\n"
     ]
    }
   ],
   "source": [
    "retailers.info()"
   ]
  },
  {
   "cell_type": "code",
   "execution_count": 20,
   "id": "2613c086-c240-4d16-8f6d-31209763c89c",
   "metadata": {},
   "outputs": [
    {
     "data": {
      "text/html": [
       "<div>\n",
       "<style scoped>\n",
       "    .dataframe tbody tr th:only-of-type {\n",
       "        vertical-align: middle;\n",
       "    }\n",
       "\n",
       "    .dataframe tbody tr th {\n",
       "        vertical-align: top;\n",
       "    }\n",
       "\n",
       "    .dataframe thead th {\n",
       "        text-align: right;\n",
       "    }\n",
       "</style>\n",
       "<table border=\"1\" class=\"dataframe\">\n",
       "  <thead>\n",
       "    <tr style=\"text-align: right;\">\n",
       "      <th></th>\n",
       "      <th>Unnamed: 0</th>\n",
       "      <th>Invoice</th>\n",
       "      <th>StockCode</th>\n",
       "      <th>Description</th>\n",
       "      <th>Quantity</th>\n",
       "      <th>InvoiceDate</th>\n",
       "      <th>Price</th>\n",
       "      <th>Customer ID</th>\n",
       "      <th>Country</th>\n",
       "      <th>Revenue</th>\n",
       "    </tr>\n",
       "  </thead>\n",
       "  <tbody>\n",
       "    <tr>\n",
       "      <th>0</th>\n",
       "      <td>0</td>\n",
       "      <td>489434</td>\n",
       "      <td>85048</td>\n",
       "      <td>15CM CHRISTMAS GLASS BALL 20 LIGHTS</td>\n",
       "      <td>12</td>\n",
       "      <td>2009-12-01 07:45:00</td>\n",
       "      <td>6.95</td>\n",
       "      <td>13085.0</td>\n",
       "      <td>United Kingdom</td>\n",
       "      <td>83.4</td>\n",
       "    </tr>\n",
       "    <tr>\n",
       "      <th>1</th>\n",
       "      <td>1</td>\n",
       "      <td>489434</td>\n",
       "      <td>79323P</td>\n",
       "      <td>PINK CHERRY LIGHTS</td>\n",
       "      <td>12</td>\n",
       "      <td>2009-12-01 07:45:00</td>\n",
       "      <td>6.75</td>\n",
       "      <td>13085.0</td>\n",
       "      <td>United Kingdom</td>\n",
       "      <td>81.0</td>\n",
       "    </tr>\n",
       "    <tr>\n",
       "      <th>2</th>\n",
       "      <td>2</td>\n",
       "      <td>489434</td>\n",
       "      <td>79323W</td>\n",
       "      <td>WHITE CHERRY LIGHTS</td>\n",
       "      <td>12</td>\n",
       "      <td>2009-12-01 07:45:00</td>\n",
       "      <td>6.75</td>\n",
       "      <td>13085.0</td>\n",
       "      <td>United Kingdom</td>\n",
       "      <td>81.0</td>\n",
       "    </tr>\n",
       "    <tr>\n",
       "      <th>3</th>\n",
       "      <td>3</td>\n",
       "      <td>489434</td>\n",
       "      <td>22041</td>\n",
       "      <td>RECORD FRAME 7\" SINGLE SIZE</td>\n",
       "      <td>48</td>\n",
       "      <td>2009-12-01 07:45:00</td>\n",
       "      <td>2.10</td>\n",
       "      <td>13085.0</td>\n",
       "      <td>United Kingdom</td>\n",
       "      <td>100.8</td>\n",
       "    </tr>\n",
       "    <tr>\n",
       "      <th>4</th>\n",
       "      <td>4</td>\n",
       "      <td>489434</td>\n",
       "      <td>21232</td>\n",
       "      <td>STRAWBERRY CERAMIC TRINKET BOX</td>\n",
       "      <td>24</td>\n",
       "      <td>2009-12-01 07:45:00</td>\n",
       "      <td>1.25</td>\n",
       "      <td>13085.0</td>\n",
       "      <td>United Kingdom</td>\n",
       "      <td>30.0</td>\n",
       "    </tr>\n",
       "  </tbody>\n",
       "</table>\n",
       "</div>"
      ],
      "text/plain": [
       "   Unnamed: 0  Invoice StockCode                          Description  \\\n",
       "0           0   489434     85048  15CM CHRISTMAS GLASS BALL 20 LIGHTS   \n",
       "1           1   489434    79323P                   PINK CHERRY LIGHTS   \n",
       "2           2   489434    79323W                  WHITE CHERRY LIGHTS   \n",
       "3           3   489434     22041         RECORD FRAME 7\" SINGLE SIZE    \n",
       "4           4   489434     21232       STRAWBERRY CERAMIC TRINKET BOX   \n",
       "\n",
       "   Quantity          InvoiceDate  Price  Customer ID         Country  Revenue  \n",
       "0        12  2009-12-01 07:45:00   6.95      13085.0  United Kingdom     83.4  \n",
       "1        12  2009-12-01 07:45:00   6.75      13085.0  United Kingdom     81.0  \n",
       "2        12  2009-12-01 07:45:00   6.75      13085.0  United Kingdom     81.0  \n",
       "3        48  2009-12-01 07:45:00   2.10      13085.0  United Kingdom    100.8  \n",
       "4        24  2009-12-01 07:45:00   1.25      13085.0  United Kingdom     30.0  "
      ]
     },
     "execution_count": 20,
     "metadata": {},
     "output_type": "execute_result"
    }
   ],
   "source": [
    "retailers.head()"
   ]
  },
  {
   "cell_type": "code",
   "execution_count": 29,
   "id": "114d04bb-e3b4-4ed2-b83e-0afd8479ecac",
   "metadata": {},
   "outputs": [],
   "source": [
    "retailers['InvoiceDate'] = pd.to_datetime((retailers['InvoiceDate']).str.split(\" \", expand=True\n",
    "                                    )[0]) "
   ]
  },
  {
   "cell_type": "code",
   "execution_count": 40,
   "id": "f6ed0259-8ba3-4923-b601-f46cf5ce8d12",
   "metadata": {},
   "outputs": [],
   "source": [
    "import numpy as np\n",
    "grouped= retailers.groupby(['Description']).agg(mean_Quantity=(\"Quantity\",np.mean), std_dev=(\"Quantity\",np.std),totes_revenue=(\"Revenue\", np.sum), totes_sales=(\"Quantity\", np.sum)).reset_index()"
   ]
  },
  {
   "cell_type": "code",
   "execution_count": 41,
   "id": "7ce70ccb-d74b-4cbc-8c28-83076b924d28",
   "metadata": {},
   "outputs": [],
   "source": [
    "# a= retailers.groupby(['Description']).agg(mean_Quantity=(\"Quantity\",np.mean), std_dev=(\"Quantity\",np.std)).reset_index()"
   ]
  },
  {
   "cell_type": "code",
   "execution_count": 42,
   "id": "e02a025f-bf62-4169-b561-8c21bd55bb05",
   "metadata": {},
   "outputs": [
    {
     "data": {
      "text/html": [
       "<div>\n",
       "<style scoped>\n",
       "    .dataframe tbody tr th:only-of-type {\n",
       "        vertical-align: middle;\n",
       "    }\n",
       "\n",
       "    .dataframe tbody tr th {\n",
       "        vertical-align: top;\n",
       "    }\n",
       "\n",
       "    .dataframe thead th {\n",
       "        text-align: right;\n",
       "    }\n",
       "</style>\n",
       "<table border=\"1\" class=\"dataframe\">\n",
       "  <thead>\n",
       "    <tr style=\"text-align: right;\">\n",
       "      <th></th>\n",
       "      <th>Description</th>\n",
       "      <th>mean_Quantity</th>\n",
       "      <th>std_dev</th>\n",
       "      <th>totes_revenue</th>\n",
       "      <th>totes_sales</th>\n",
       "    </tr>\n",
       "  </thead>\n",
       "  <tbody>\n",
       "    <tr>\n",
       "      <th>0</th>\n",
       "      <td>DOORMAT UNION JACK GUNS AND ROSES</td>\n",
       "      <td>3.274510</td>\n",
       "      <td>2.987162</td>\n",
       "      <td>1071.25</td>\n",
       "      <td>167</td>\n",
       "    </tr>\n",
       "    <tr>\n",
       "      <th>1</th>\n",
       "      <td>3 STRIPEY MICE FELTCRAFT</td>\n",
       "      <td>5.756522</td>\n",
       "      <td>8.822411</td>\n",
       "      <td>1241.10</td>\n",
       "      <td>662</td>\n",
       "    </tr>\n",
       "    <tr>\n",
       "      <th>2</th>\n",
       "      <td>4 PURPLE FLOCK DINNER CANDLES</td>\n",
       "      <td>6.230769</td>\n",
       "      <td>9.421742</td>\n",
       "      <td>495.16</td>\n",
       "      <td>324</td>\n",
       "    </tr>\n",
       "    <tr>\n",
       "      <th>3</th>\n",
       "      <td>50'S CHRISTMAS GIFT BAG LARGE</td>\n",
       "      <td>17.293578</td>\n",
       "      <td>37.765677</td>\n",
       "      <td>2272.25</td>\n",
       "      <td>1885</td>\n",
       "    </tr>\n",
       "    <tr>\n",
       "      <th>4</th>\n",
       "      <td>ANIMAL STICKERS</td>\n",
       "      <td>32.083333</td>\n",
       "      <td>11.758620</td>\n",
       "      <td>80.85</td>\n",
       "      <td>385</td>\n",
       "    </tr>\n",
       "    <tr>\n",
       "      <th>...</th>\n",
       "      <td>...</td>\n",
       "      <td>...</td>\n",
       "      <td>...</td>\n",
       "      <td>...</td>\n",
       "      <td>...</td>\n",
       "    </tr>\n",
       "    <tr>\n",
       "      <th>95</th>\n",
       "      <td>36 DOILIES SPACEBOY DESIGN</td>\n",
       "      <td>13.557692</td>\n",
       "      <td>28.034582</td>\n",
       "      <td>993.45</td>\n",
       "      <td>705</td>\n",
       "    </tr>\n",
       "    <tr>\n",
       "      <th>96</th>\n",
       "      <td>36 DOILIES VINTAGE CHRISTMAS</td>\n",
       "      <td>25.557756</td>\n",
       "      <td>54.725405</td>\n",
       "      <td>10590.40</td>\n",
       "      <td>7744</td>\n",
       "    </tr>\n",
       "    <tr>\n",
       "      <th>97</th>\n",
       "      <td>36 FOIL HEART CAKE CASES</td>\n",
       "      <td>10.463519</td>\n",
       "      <td>23.382312</td>\n",
       "      <td>4699.37</td>\n",
       "      <td>2438</td>\n",
       "    </tr>\n",
       "    <tr>\n",
       "      <th>98</th>\n",
       "      <td>36 FOIL STAR CAKE CASES</td>\n",
       "      <td>9.439024</td>\n",
       "      <td>18.677500</td>\n",
       "      <td>2740.04</td>\n",
       "      <td>1548</td>\n",
       "    </tr>\n",
       "    <tr>\n",
       "      <th>99</th>\n",
       "      <td>36 PENCILS TUBE POSY</td>\n",
       "      <td>4.275000</td>\n",
       "      <td>4.629823</td>\n",
       "      <td>213.75</td>\n",
       "      <td>171</td>\n",
       "    </tr>\n",
       "  </tbody>\n",
       "</table>\n",
       "<p>100 rows × 5 columns</p>\n",
       "</div>"
      ],
      "text/plain": [
       "                            Description  mean_Quantity    std_dev  \\\n",
       "0     DOORMAT UNION JACK GUNS AND ROSES       3.274510   2.987162   \n",
       "1              3 STRIPEY MICE FELTCRAFT       5.756522   8.822411   \n",
       "2         4 PURPLE FLOCK DINNER CANDLES       6.230769   9.421742   \n",
       "3         50'S CHRISTMAS GIFT BAG LARGE      17.293578  37.765677   \n",
       "4                       ANIMAL STICKERS      32.083333  11.758620   \n",
       "..                                  ...            ...        ...   \n",
       "95          36 DOILIES SPACEBOY DESIGN       13.557692  28.034582   \n",
       "96         36 DOILIES VINTAGE CHRISTMAS      25.557756  54.725405   \n",
       "97             36 FOIL HEART CAKE CASES      10.463519  23.382312   \n",
       "98             36 FOIL STAR CAKE CASES        9.439024  18.677500   \n",
       "99                 36 PENCILS TUBE POSY       4.275000   4.629823   \n",
       "\n",
       "    totes_revenue  totes_sales  \n",
       "0         1071.25          167  \n",
       "1         1241.10          662  \n",
       "2          495.16          324  \n",
       "3         2272.25         1885  \n",
       "4           80.85          385  \n",
       "..            ...          ...  \n",
       "95         993.45          705  \n",
       "96       10590.40         7744  \n",
       "97        4699.37         2438  \n",
       "98        2740.04         1548  \n",
       "99         213.75          171  \n",
       "\n",
       "[100 rows x 5 columns]"
      ]
     },
     "execution_count": 42,
     "metadata": {},
     "output_type": "execute_result"
    }
   ],
   "source": [
    "grouped.head(100\n",
    "            )"
   ]
  },
  {
   "cell_type": "code",
   "execution_count": 39,
   "id": "cc0b95ec-df69-4385-aa9d-9d8ab453b400",
   "metadata": {},
   "outputs": [
    {
     "name": "stderr",
     "output_type": "stream",
     "text": [
      "<frozen importlib._bootstrap>:219: RuntimeWarning: scipy._lib.messagestream.MessageStream size changed, may indicate binary incompatibility. Expected 56 from C header, got 64 from PyObject\n"
     ]
    }
   ],
   "source": [
    "import inventorize as inv"
   ]
  },
  {
   "cell_type": "code",
   "execution_count": 44,
   "id": "2befd6f1-a04e-4ffb-99eb-303e6eb15a6d",
   "metadata": {},
   "outputs": [],
   "source": [
    "prod_mix=inv.productmix(skus= grouped['Description'],sales= grouped['totes_sales'],revenue=grouped['totes_revenue'])"
   ]
  },
  {
   "cell_type": "code",
   "execution_count": 45,
   "id": "4e37d6a3-8f77-4db2-94b0-31f48e81bc12",
   "metadata": {},
   "outputs": [
    {
     "data": {
      "text/plain": [
       "Index(['skus', 'sales', 'revenue', 'sales_mix', 'comulative_sales',\n",
       "       'revenue_mix', 'comulative_revenue', 'sales_category',\n",
       "       'revenue_category', 'product_mix'],\n",
       "      dtype='object')"
      ]
     },
     "execution_count": 45,
     "metadata": {},
     "output_type": "execute_result"
    }
   ],
   "source": [
    "prod_mix.columns"
   ]
  },
  {
   "cell_type": "code",
   "execution_count": 46,
   "id": "8849b570-c375-40ef-80b3-a978dbac0b27",
   "metadata": {},
   "outputs": [
    {
     "data": {
      "text/plain": [
       "C_C    2394\n",
       "A_A     775\n",
       "B_B     632\n",
       "C_B     413\n",
       "B_C     325\n",
       "A_B     317\n",
       "B_A     288\n",
       "C_A      74\n",
       "A_C      65\n",
       "Name: product_mix, dtype: int64"
      ]
     },
     "execution_count": 46,
     "metadata": {},
     "output_type": "execute_result"
    }
   ],
   "source": [
    "prod_mix['product_mix'].value_counts()"
   ]
  },
  {
   "cell_type": "code",
   "execution_count": null,
   "id": "698baf49-c57c-4fb7-bab6-400c952b3a93",
   "metadata": {},
   "outputs": [],
   "source": []
  },
  {
   "cell_type": "code",
   "execution_count": 50,
   "id": "38ac01ce-9fab-444f-9994-7848714157d3",
   "metadata": {},
   "outputs": [],
   "source": [
    "\n",
    "mappings= {'A_A':0.95,'C_A':0.90,'B_A':0.85,'A_B':0.80,'B_C':0.75,'C_B':0.7,'B_B':0.65,'A_A':0.60,'C_C':0.55}"
   ]
  },
  {
   "cell_type": "code",
   "execution_count": 55,
   "id": "32818dba-61be-4952-9baf-136c1c56e6df",
   "metadata": {},
   "outputs": [],
   "source": [
    "prod_mix['Service_Levels']=prod_mix['product_mix'].map(mappings)"
   ]
  },
  {
   "cell_type": "code",
   "execution_count": 56,
   "id": "a06fc751-f035-4213-8807-f0b9dac2b820",
   "metadata": {},
   "outputs": [
    {
     "data": {
      "text/html": [
       "<div>\n",
       "<style scoped>\n",
       "    .dataframe tbody tr th:only-of-type {\n",
       "        vertical-align: middle;\n",
       "    }\n",
       "\n",
       "    .dataframe tbody tr th {\n",
       "        vertical-align: top;\n",
       "    }\n",
       "\n",
       "    .dataframe thead th {\n",
       "        text-align: right;\n",
       "    }\n",
       "</style>\n",
       "<table border=\"1\" class=\"dataframe\">\n",
       "  <thead>\n",
       "    <tr style=\"text-align: right;\">\n",
       "      <th></th>\n",
       "      <th>skus</th>\n",
       "      <th>sales</th>\n",
       "      <th>revenue</th>\n",
       "      <th>sales_mix</th>\n",
       "      <th>comulative_sales</th>\n",
       "      <th>revenue_mix</th>\n",
       "      <th>comulative_revenue</th>\n",
       "      <th>sales_category</th>\n",
       "      <th>revenue_category</th>\n",
       "      <th>product_mix</th>\n",
       "      <th>Service_Levels</th>\n",
       "    </tr>\n",
       "  </thead>\n",
       "  <tbody>\n",
       "    <tr>\n",
       "      <th>3769</th>\n",
       "      <td>REGENCY CAKESTAND 3 TIER</td>\n",
       "      <td>24139</td>\n",
       "      <td>277656.25</td>\n",
       "      <td>0.002293</td>\n",
       "      <td>0.177816</td>\n",
       "      <td>0.015980</td>\n",
       "      <td>0.015980</td>\n",
       "      <td>A</td>\n",
       "      <td>A</td>\n",
       "      <td>A_A</td>\n",
       "      <td>0.6</td>\n",
       "    </tr>\n",
       "    <tr>\n",
       "      <th>5047</th>\n",
       "      <td>WHITE HANGING HEART T-LIGHT HOLDER</td>\n",
       "      <td>91757</td>\n",
       "      <td>247048.01</td>\n",
       "      <td>0.008715</td>\n",
       "      <td>0.018705</td>\n",
       "      <td>0.014219</td>\n",
       "      <td>0.030199</td>\n",
       "      <td>A</td>\n",
       "      <td>A</td>\n",
       "      <td>A_A</td>\n",
       "      <td>0.6</td>\n",
       "    </tr>\n",
       "    <tr>\n",
       "      <th>3129</th>\n",
       "      <td>PAPER CRAFT , LITTLE BIRDIE</td>\n",
       "      <td>80995</td>\n",
       "      <td>168469.60</td>\n",
       "      <td>0.007693</td>\n",
       "      <td>0.026398</td>\n",
       "      <td>0.009696</td>\n",
       "      <td>0.039895</td>\n",
       "      <td>A</td>\n",
       "      <td>A</td>\n",
       "      <td>A_A</td>\n",
       "      <td>0.6</td>\n",
       "    </tr>\n",
       "    <tr>\n",
       "      <th>2860</th>\n",
       "      <td>Manual</td>\n",
       "      <td>9391</td>\n",
       "      <td>151777.67</td>\n",
       "      <td>0.000892</td>\n",
       "      <td>0.424068</td>\n",
       "      <td>0.008736</td>\n",
       "      <td>0.048631</td>\n",
       "      <td>A</td>\n",
       "      <td>A</td>\n",
       "      <td>A_A</td>\n",
       "      <td>0.6</td>\n",
       "    </tr>\n",
       "    <tr>\n",
       "      <th>2392</th>\n",
       "      <td>JUMBO BAG RED RETROSPOT</td>\n",
       "      <td>74224</td>\n",
       "      <td>134307.44</td>\n",
       "      <td>0.007050</td>\n",
       "      <td>0.048279</td>\n",
       "      <td>0.007730</td>\n",
       "      <td>0.056361</td>\n",
       "      <td>A</td>\n",
       "      <td>A</td>\n",
       "      <td>A_A</td>\n",
       "      <td>0.6</td>\n",
       "    </tr>\n",
       "  </tbody>\n",
       "</table>\n",
       "</div>"
      ],
      "text/plain": [
       "                                    skus  sales    revenue  sales_mix  \\\n",
       "3769            REGENCY CAKESTAND 3 TIER  24139  277656.25   0.002293   \n",
       "5047  WHITE HANGING HEART T-LIGHT HOLDER  91757  247048.01   0.008715   \n",
       "3129         PAPER CRAFT , LITTLE BIRDIE  80995  168469.60   0.007693   \n",
       "2860                              Manual   9391  151777.67   0.000892   \n",
       "2392             JUMBO BAG RED RETROSPOT  74224  134307.44   0.007050   \n",
       "\n",
       "      comulative_sales  revenue_mix  comulative_revenue sales_category  \\\n",
       "3769          0.177816     0.015980            0.015980              A   \n",
       "5047          0.018705     0.014219            0.030199              A   \n",
       "3129          0.026398     0.009696            0.039895              A   \n",
       "2860          0.424068     0.008736            0.048631              A   \n",
       "2392          0.048279     0.007730            0.056361              A   \n",
       "\n",
       "     revenue_category product_mix  Service_Levels  \n",
       "3769                A         A_A             0.6  \n",
       "5047                A         A_A             0.6  \n",
       "3129                A         A_A             0.6  \n",
       "2860                A         A_A             0.6  \n",
       "2392                A         A_A             0.6  "
      ]
     },
     "execution_count": 56,
     "metadata": {},
     "output_type": "execute_result"
    }
   ],
   "source": [
    "prod_mix.head()"
   ]
  },
  {
   "cell_type": "code",
   "execution_count": 57,
   "id": "88b1c10f-7e21-46d3-b0ec-90e2dc5a3c43",
   "metadata": {},
   "outputs": [
    {
     "data": {
      "text/plain": [
       "(5283, 11)"
      ]
     },
     "execution_count": 57,
     "metadata": {},
     "output_type": "execute_result"
    }
   ],
   "source": [
    "prod_mix.shape\n"
   ]
  },
  {
   "cell_type": "code",
   "execution_count": 58,
   "id": "be341168-4962-453f-9532-0e85de87e513",
   "metadata": {},
   "outputs": [
    {
     "data": {
      "text/plain": [
       "(5283, 5)"
      ]
     },
     "execution_count": 58,
     "metadata": {},
     "output_type": "execute_result"
    }
   ],
   "source": [
    "grouped.shape"
   ]
  },
  {
   "cell_type": "code",
   "execution_count": 63,
   "id": "46334be1-07d9-4f04-8ea8-2ae2f8ceb12b",
   "metadata": {},
   "outputs": [],
   "source": [
    "merged_df=pd.merge(grouped, prod_mix[['skus','Service_Levels']], how='inner',left_on='Description', right_on='skus')"
   ]
  },
  {
   "cell_type": "code",
   "execution_count": 70,
   "id": "045f7379-ffa0-43d7-86e9-46c2db70765d",
   "metadata": {},
   "outputs": [],
   "source": [
    "list1=[]\n",
    "for i in range(merged_df.shape[0]):\n",
    "    list1.append(inv.reorderpoint(dailydemand=merged_df.loc[i,'mean_Quantity'],dailystandarddeviation=merged_df.loc[i,'std_dev'],leadtimein_days=14,csl=merged_df.loc[i,'Service_Levels']))\n",
    "    "
   ]
  },
  {
   "cell_type": "code",
   "execution_count": 71,
   "id": "cdc255fc-169f-4341-929a-786e35865415",
   "metadata": {},
   "outputs": [],
   "source": [
    "merged_df['Reorder_Point']= list1"
   ]
  },
  {
   "cell_type": "code",
   "execution_count": 72,
   "id": "fa5583b6-73f8-422d-8b9d-0c605de9e934",
   "metadata": {},
   "outputs": [
    {
     "data": {
      "text/plain": [
       "{'demandleadtime': 45.84313725490196,\n",
       " 'sigmadl': 11.176937038769946,\n",
       " 'safteyfactor': 0.5244005127080407,\n",
       " 'reorder_point': 51.70432876853841}"
      ]
     },
     "execution_count": 72,
     "metadata": {},
     "output_type": "execute_result"
    }
   ],
   "source": [
    "merged_df['Reorder_Point'][0]"
   ]
  },
  {
   "cell_type": "code",
   "execution_count": null,
   "id": "7408d441-b783-45ab-be9b-3501902dfe22",
   "metadata": {},
   "outputs": [],
   "source": []
  }
 ],
 "metadata": {
  "kernelspec": {
   "display_name": "Python 3",
   "language": "python",
   "name": "python3"
  },
  "language_info": {
   "codemirror_mode": {
    "name": "ipython",
    "version": 3
   },
   "file_extension": ".py",
   "mimetype": "text/x-python",
   "name": "python",
   "nbconvert_exporter": "python",
   "pygments_lexer": "ipython3",
   "version": "3.8.5"
  }
 },
 "nbformat": 4,
 "nbformat_minor": 5
}
